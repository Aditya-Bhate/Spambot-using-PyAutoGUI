{
 "cells": [
  {
   "cell_type": "markdown",
   "metadata": {},
   "source": [
    "## Spamming – Refers to sending unsolicited messages to large number     of systems over the internet. \n",
    "\n",
    "###### This mini-project can be used for many real-life applications like:\n",
    "\n",
    "Remind your friends or relatives to do a particular task after every particular time interval\n",
    "can be used for advertisement purpose !\n"
   ]
  },
  {
   "cell_type": "code",
   "execution_count": 2,
   "metadata": {},
   "outputs": [
    {
     "name": "stdout",
     "output_type": "stream",
     "text": [
      "2021-06-14 18:37:40.512634\n",
      "2021-06-14 18:37:42.786901\n",
      "2021-06-14 18:37:45.069967\n",
      "2021-06-14 18:37:47.376103\n",
      "2021-06-14 18:37:49.660425\n"
     ]
    }
   ],
   "source": [
    "import pyautogui, time, datetime\n",
    "  \n",
    "time.sleep(2)\n",
    "  \n",
    "while True:\n",
    "    \n",
    "    # to display the time at which the message is sent \n",
    "    print(datetime.datetime.now())\n",
    "    pyautogui.typewrite(\"Reminder: Drink water!\") \n",
    "    pyautogui.press(\"enter\")\n",
    "    time.sleep(2)\n",
    "  \n",
    "    print(datetime.datetime.now())\n",
    "    pyautogui.typewrite(\"Reminder: Take medicine!\")\n",
    "    pyautogui.press(\"enter\")\n",
    "    time.sleep(2)\n",
    "  \n",
    "    print(datetime.datetime.now())\n",
    "    pyautogui.typewrite(\"Reminder: Take the dog for a walk!\")\n",
    "    pyautogui.press(\"enter\")\n",
    "    time.sleep(2)\n",
    "  \n",
    "    print(datetime.datetime.now())\n",
    "    pyautogui.typewrite(\"Reminder: Drink water!\")\n",
    "    pyautogui.press(\"enter\")\n",
    "    time.sleep(2)\n",
    "  \n",
    "    print(datetime.datetime.now())\n",
    "    pyautogui.typewrite(\"Reminder: Drink water!\")\n",
    "    pyautogui.press(\"enter\")\n",
    "    time.sleep(2)\n",
    "    \n",
    "    break"
   ]
  },
  {
   "cell_type": "code",
   "execution_count": null,
   "metadata": {},
   "outputs": [],
   "source": [
    "Reminder: Drink water!\n",
    "    Reminder: Take medicine!\n",
    "        Reminder: Take the dog for a walk!\n",
    "            Reminder: Drink water!\n",
    "                Reminder: Drink water!\n",
    "                    "
   ]
  }
 ],
 "metadata": {
  "kernelspec": {
   "display_name": "Python 3",
   "language": "python",
   "name": "python3"
  },
  "language_info": {
   "codemirror_mode": {
    "name": "ipython",
    "version": 3
   },
   "file_extension": ".py",
   "mimetype": "text/x-python",
   "name": "python",
   "nbconvert_exporter": "python",
   "pygments_lexer": "ipython3",
   "version": "3.8.8"
  }
 },
 "nbformat": 4,
 "nbformat_minor": 2
}
